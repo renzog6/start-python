{
  "nbformat": 4,
  "nbformat_minor": 0,
  "metadata": {
    "colab": {
      "name": "readPDF.ipynb",
      "provenance": [],
      "collapsed_sections": [],
      "mount_file_id": "1aTQ6TOXugn7WqpF1eFf_ndEksX-Bbl-Z",
      "authorship_tag": "ABX9TyOdbARkShlPhLdZO8HH9XnO",
      "include_colab_link": true
    },
    "kernelspec": {
      "name": "python3",
      "display_name": "Python 3"
    },
    "language_info": {
      "name": "python"
    }
  },
  "cells": [
    {
      "cell_type": "markdown",
      "metadata": {
        "id": "view-in-github",
        "colab_type": "text"
      },
      "source": [
        "<a href=\"https://colab.research.google.com/github/renzog6/start-python/blob/main/readPDF.ipynb\" target=\"_parent\"><img src=\"https://colab.research.google.com/assets/colab-badge.svg\" alt=\"Open In Colab\"/></a>"
      ]
    },
    {
      "cell_type": "code",
      "source": [
        "!pip install PyMuPDF\n",
        "import fitz\n",
        "import sys\n",
        "# read pdf file\n",
        "pdf = fitz.open(\"/content/drive/MyDrive/Facturas/20305672506_011_00001_00000001.pdf\")\n",
        "# load pdf page using index\n",
        "page = pdf.load_page(0)\n",
        "\n",
        "\n",
        "#txt = page.get_text(\"words\")\n",
        "#txt = page.get_text(\"text\", clip=rect)\n",
        "\n",
        "rect = fitz.Rect(45, 190, 102,220) #CUIT\n",
        "text = page.get_textbox(rect)\n",
        "\n",
        "rect = fitz.Rect(45, 190, 102,220) #CUIT\n",
        "\n",
        "print(text)\n",
        "\n",
        "#print(txt)\n",
        "\n",
        "  \n",
        "\n",
        "#buscar = page.search_for(\"CUIT: \")\n",
        "#print(buscar)\n",
        "\n",
        "#file = open('read.csv', 'w')\n",
        "#file.write(str(txt))\n",
        "#file.close()"
      ],
      "metadata": {
        "id": "WoqukRWW3iLU",
        "colab": {
          "base_uri": "https://localhost:8080/"
        },
        "outputId": "2d3d5ff7-6b22-42d3-87df-4fa72ae2b139"
      },
      "execution_count": null,
      "outputs": [
        {
          "output_type": "stream",
          "name": "stdout",
          "text": [
            "Looking in indexes: https://pypi.org/simple, https://us-python.pkg.dev/colab-wheels/public/simple/\n",
            "Requirement already satisfied: PyMuPDF in /usr/local/lib/python3.7/dist-packages (1.20.1)\n",
            "Rect(45.0, 190.0, 102.0, 220.0)\n",
            "3070820371\n"
          ]
        }
      ]
    }
  ]
}